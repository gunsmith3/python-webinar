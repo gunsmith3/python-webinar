{
 "cells": [
  {
   "cell_type": "code",
   "execution_count": 1,
   "metadata": {},
   "outputs": [
    {
     "name": "stderr",
     "output_type": "stream",
     "text": [
      "usage: ipykernel_launcher.py [-h] path\n",
      "ipykernel_launcher.py: error: unrecognized arguments: -f\n"
     ]
    },
    {
     "ename": "SystemExit",
     "evalue": "2",
     "output_type": "error",
     "traceback": [
      "An exception has occurred, use %tb to see the full traceback.\n",
      "\u001b[1;31mSystemExit\u001b[0m\u001b[1;31m:\u001b[0m 2\n"
     ]
    },
    {
     "name": "stderr",
     "output_type": "stream",
     "text": [
      "C:\\Users\\yangz\\Anaconda3\\lib\\site-packages\\IPython\\core\\interactiveshell.py:3304: UserWarning: To exit: use 'exit', 'quit', or Ctrl-D.\n",
      "  warn(\"To exit: use 'exit', 'quit', or Ctrl-D.\", stacklevel=1)\n"
     ]
    }
   ],
   "source": [
    "import os\n",
    "import argparse\n",
    "\n",
    "#tell argparse to handle arguments\n",
    "parser = argparse.ArgumentParser(description=\"This script parses amber mdout files to exttract the total energy.\")\n",
    "\n",
    "#Tell argparse to handle arguments to expect\n",
    "parser.add_argument(\"path\", help=\"The filepath to the file to be analyzed.\")\n",
    "\n",
    "#Get arguments from the user\n",
    "args = parser.parse_args()\n",
    "\n",
    "# Open the file for reading\n",
    "filename = args.path\n",
    "\n",
    "f = open(filename,'r')\n",
    "\n",
    "# Read the data in the file.\n",
    "data= f.readlines()\n",
    "f.close()\n"
   ]
  },
  {
   "cell_type": "code",
   "execution_count": null,
   "metadata": {},
   "outputs": [],
   "source": [
    "# Open a file for writing\n",
    "base_filename = filename.split('.')\n",
    "base_filename = base_filename[0]\n",
    "output_filename = F'{base_filename}_Etot.txt'\n",
    "\n",
    "f_write = open(output_filename,'w+')\n",
    "\n",
    "print(f'Writing output to{output_filename}')\n",
    "\n",
    "f_write.write('Total Energy\\n')\n"
   ]
  },
  {
   "cell_type": "code",
   "execution_count": null,
   "metadata": {},
   "outputs": [],
   "source": [
    "# Open a file for writing\n",
    "f_write = open('Etot.txt','w+')\n",
    "\n",
    "\n",
    "# Loop through lines in the file.\n",
    "for line in data:\n",
    "    split_line = line.split()\n",
    "    if 'Etot' in line:\n",
    "        #print(split_line[2])\n",
    "        f_write.write(f'{split_line[2]}\\n')\n",
    "f.write.close()\n",
    "# Get information from the line\n",
    "\n",
    "# Write information to new line."
   ]
  }
 ],
 "metadata": {
  "kernelspec": {
   "display_name": "Python 3",
   "language": "python",
   "name": "python3"
  },
  "language_info": {
   "codemirror_mode": {
    "name": "ipython",
    "version": 3
   },
   "file_extension": ".py",
   "mimetype": "text/x-python",
   "name": "python",
   "nbconvert_exporter": "python",
   "pygments_lexer": "ipython3",
   "version": "3.7.3"
  }
 },
 "nbformat": 4,
 "nbformat_minor": 2
}
